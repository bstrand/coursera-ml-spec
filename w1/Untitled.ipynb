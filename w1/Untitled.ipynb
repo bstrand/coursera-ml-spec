{
 "cells": [
  {
   "cell_type": "code",
   "execution_count": 1,
   "metadata": {
    "collapsed": true
   },
   "outputs": [],
   "source": [
    "class Poem(object):\n",
    "    def __init__(self, content):\n",
    "        self.content = content\n",
    "\n",
    "    def indent(self, spaces):\n",
    "        self.content = \" \" * spaces + self.content\n",
    "        return self\n",
    "\n",
    "    def suffix(self, content):\n",
    "        self.content = self.content + \" - \" + content\n",
    "        return self"
   ]
  },
  {
   "cell_type": "code",
   "execution_count": 5,
   "metadata": {
    "collapsed": false
   },
   "outputs": [
    {
     "data": {
      "text/plain": [
       "'    Road Not Travelled - Robert Frost'"
      ]
     },
     "execution_count": 5,
     "metadata": {},
     "output_type": "execute_result"
    }
   ],
   "source": [
    "Poem(\"Road Not Travelled\") \\\n",
    "    .indent(4) \\\n",
    "    .suffix(\"Robert Frost\") \\\n",
    "    .content"
   ]
  },
  {
   "cell_type": "code",
   "execution_count": null,
   "metadata": {
    "collapsed": true
   },
   "outputs": [],
   "source": []
  }
 ],
 "metadata": {
  "kernelspec": {
   "display_name": "Python 2",
   "language": "python",
   "name": "python2"
  },
  "language_info": {
   "codemirror_mode": {
    "name": "ipython",
    "version": 2
   },
   "file_extension": ".py",
   "mimetype": "text/x-python",
   "name": "python",
   "nbconvert_exporter": "python",
   "pygments_lexer": "ipython2",
   "version": "2.7.10"
  }
 },
 "nbformat": 4,
 "nbformat_minor": 0
}
